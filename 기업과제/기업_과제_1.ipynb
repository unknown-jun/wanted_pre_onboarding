{
 "cells": [
  {
   "cell_type": "code",
   "execution_count": 5,
   "id": "afd096a3",
   "metadata": {},
   "outputs": [
    {
     "name": "stdout",
     "output_type": "stream",
     "text": [
      "-------- 문제 1 --------\n",
      "['Yes', 'Yes', 'Yes', 'Yes', 'Yes', 'Yes', 'Yes', 'Yes', 'No'] \n",
      "\n",
      "-------- 문제 2 --------\n",
      " #pos = 0, pattern = aaaa\n",
      " #pos = 0, pattern = aaaabb\n",
      " #pos = 6, pattern = aabbcc\n",
      " #pos = 3, pattern = abb\n",
      " #pos = 9, pattern = bcc\n",
      " #pos = 8, pattern = bbcc\n",
      " #pos = 6, pattern = aabbccdd\n",
      " #pos = 1, pattern = aaabb\n",
      "\n",
      "-------- 문제 3 --------\n",
      " #pos = 0, pattern = aaa\n",
      " #pos = 1, pattern = aaa\n",
      " #pos = 0, pattern = aaaabb\n",
      " #pos = 6, pattern = aabbcc\n",
      " #pos = 3, pattern = abb\n",
      " #pos = 7, pattern = abb\n",
      " #pos = 9, pattern = bcc\n",
      " #pos = 8, pattern = bbcc\n",
      " #pos = 6, pattern = aabbccdd\n",
      " #pos = 1, pattern = aaabb\n"
     ]
    }
   ],
   "source": [
    "import re\n",
    "\n",
    "S = [\"aaa\", \"aaaabb\", \"aabbcc\", \"abb\", \"bcc\", \"bbcc\", \"aabbccdd\", \"aaabb\",  \"cccd\"]\n",
    "match_str = \"aaaabbaabbccdd\"\n",
    "\n",
    "print('-------- 문제 1 --------')\n",
    "result = []\n",
    "def str_is_in_or_not(S, match_str):\n",
    "    for word in S:\n",
    "        compile_str = re.compile(word)\n",
    "        searched_word = compile_str.search(match_str)\n",
    "        \n",
    "        if searched_word != None:\n",
    "            result.append('Yes')\n",
    "        else:\n",
    "            result.append('No')\n",
    "        \n",
    "str_is_in_or_not(S, match_str)\n",
    "print(result, '\\n')\n",
    "\n",
    "print('-------- 문제 2 --------')\n",
    "def print_position_pattern(S, match_str):\n",
    "    for word in S:\n",
    "        compile_str = re.compile(word+'*')\n",
    "        searched_word = compile_str.search(match_str)\n",
    "        if searched_word != None:        \n",
    "            print(' #pos = ' + str(searched_word.start()) + ', pattern = ' + str(searched_word[0]))\n",
    "        else:\n",
    "            pass\n",
    "        \n",
    "print_position_pattern(S, match_str)\n",
    "\n",
    "print('\\n'+'-------- 문제 3 --------')\n",
    "def all_possible_pattern(S, match_str):\n",
    "    for word in S:\n",
    "        overlap_alias = '(?=('+word+'))'  # findall에서 overlap을 허용하는 연산자\n",
    "        compile_str = re.compile(word)\n",
    "        searched_word = re.findall(overlap_alias, match_str)\n",
    "        \n",
    "        if searched_word != None: \n",
    "            idx=0       # \n",
    "            for i in searched_word:\n",
    "                t = re.search(i, match_str[idx:])\n",
    "                print(' #pos = ' + str(t.start()+idx) + ', pattern = ' + str(t[0]))\n",
    "                idx +=t.start()+1\n",
    "        else:\n",
    "            pass\n",
    "        \n",
    "all_possible_pattern(S, match_str)"
   ]
  }
 ],
 "metadata": {
  "kernelspec": {
   "display_name": "Python 3",
   "language": "python",
   "name": "python3"
  },
  "language_info": {
   "codemirror_mode": {
    "name": "ipython",
    "version": 3
   },
   "file_extension": ".py",
   "mimetype": "text/x-python",
   "name": "python",
   "nbconvert_exporter": "python",
   "pygments_lexer": "ipython3",
   "version": "3.8.8"
  },
  "toc": {
   "base_numbering": 1,
   "nav_menu": {},
   "number_sections": true,
   "sideBar": true,
   "skip_h1_title": false,
   "title_cell": "Table of Contents",
   "title_sidebar": "Contents",
   "toc_cell": false,
   "toc_position": {},
   "toc_section_display": true,
   "toc_window_display": false
  },
  "varInspector": {
   "cols": {
    "lenName": 16,
    "lenType": 16,
    "lenVar": 40
   },
   "kernels_config": {
    "python": {
     "delete_cmd_postfix": "",
     "delete_cmd_prefix": "del ",
     "library": "var_list.py",
     "varRefreshCmd": "print(var_dic_list())"
    },
    "r": {
     "delete_cmd_postfix": ") ",
     "delete_cmd_prefix": "rm(",
     "library": "var_list.r",
     "varRefreshCmd": "cat(var_dic_list()) "
    }
   },
   "types_to_exclude": [
    "module",
    "function",
    "builtin_function_or_method",
    "instance",
    "_Feature"
   ],
   "window_display": false
  }
 },
 "nbformat": 4,
 "nbformat_minor": 5
}
